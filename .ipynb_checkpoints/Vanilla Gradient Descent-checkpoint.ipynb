{
 "cells": [
  {
   "cell_type": "markdown",
   "metadata": {},
   "source": [
    "# Vanilla Gradient Descent"
   ]
  },
  {
   "cell_type": "code",
   "execution_count": null,
   "metadata": {
    "collapsed": true
   },
   "outputs": [],
   "source": []
  },
  {
   "cell_type": "markdown",
   "metadata": {},
   "source": [
    "### Looking at our data\n",
    "\n",
    "------\n",
    "\n",
    "This data set can be found using this <a href='kaggle.com'>link</a>"
   ]
  },
  {
   "cell_type": "markdown",
   "metadata": {},
   "source": [
    "###### Import\n",
    "\n",
    "First we will import pandas, pandas is a great tool working with data, we can easily read csvs using the read_csv method and the data will be directly converted into a dataframe"
   ]
  },
  {
   "cell_type": "code",
   "execution_count": 1,
   "metadata": {
    "collapsed": true
   },
   "outputs": [],
   "source": [
    "import pandas as pd"
   ]
  },
  {
   "cell_type": "code",
   "execution_count": 2,
   "metadata": {
    "collapsed": true
   },
   "outputs": [],
   "source": [
    "challenge = pd.read_csv('./input/challenge.csv')"
   ]
  },
  {
   "cell_type": "code",
   "execution_count": 3,
   "metadata": {},
   "outputs": [
    {
     "data": {
      "text/html": [
       "<div>\n",
       "<style>\n",
       "    .dataframe thead tr:only-child th {\n",
       "        text-align: right;\n",
       "    }\n",
       "\n",
       "    .dataframe thead th {\n",
       "        text-align: left;\n",
       "    }\n",
       "\n",
       "    .dataframe tbody tr th {\n",
       "        vertical-align: top;\n",
       "    }\n",
       "</style>\n",
       "<table border=\"1\" class=\"dataframe\">\n",
       "  <thead>\n",
       "    <tr style=\"text-align: right;\">\n",
       "      <th></th>\n",
       "      <th>Overall Position</th>\n",
       "      <th>Gender Position</th>\n",
       "      <th>Category Position</th>\n",
       "      <th>Category</th>\n",
       "      <th>Race No</th>\n",
       "      <th>Country</th>\n",
       "      <th>Official Time</th>\n",
       "      <th>Net Time</th>\n",
       "      <th>10km Time</th>\n",
       "      <th>Half Way Time</th>\n",
       "      <th>30km Time</th>\n",
       "    </tr>\n",
       "  </thead>\n",
       "  <tbody>\n",
       "    <tr>\n",
       "      <th>0</th>\n",
       "      <td>1</td>\n",
       "      <td>1</td>\n",
       "      <td>1</td>\n",
       "      <td>MMS</td>\n",
       "      <td>21080</td>\n",
       "      <td>Kenya</td>\n",
       "      <td>2:12:12</td>\n",
       "      <td>2:12:11</td>\n",
       "      <td>0:30:35</td>\n",
       "      <td>1:04:48</td>\n",
       "      <td>1:33:36</td>\n",
       "    </tr>\n",
       "    <tr>\n",
       "      <th>1</th>\n",
       "      <td>2</td>\n",
       "      <td>2</td>\n",
       "      <td>1</td>\n",
       "      <td>MMI</td>\n",
       "      <td>14</td>\n",
       "      <td>Kenya</td>\n",
       "      <td>2:12:14</td>\n",
       "      <td>2:12:13</td>\n",
       "      <td>0:30:34</td>\n",
       "      <td>1:04:48</td>\n",
       "      <td>1:33:36</td>\n",
       "    </tr>\n",
       "    <tr>\n",
       "      <th>2</th>\n",
       "      <td>3</td>\n",
       "      <td>3</td>\n",
       "      <td>2</td>\n",
       "      <td>MMI</td>\n",
       "      <td>2</td>\n",
       "      <td>Ethiopia</td>\n",
       "      <td>2:12:20</td>\n",
       "      <td>2:12:18</td>\n",
       "      <td>0:30:35</td>\n",
       "      <td>1:04:49</td>\n",
       "      <td>1:33:36</td>\n",
       "    </tr>\n",
       "    <tr>\n",
       "      <th>3</th>\n",
       "      <td>4</td>\n",
       "      <td>4</td>\n",
       "      <td>2</td>\n",
       "      <td>MMS</td>\n",
       "      <td>21077</td>\n",
       "      <td>Kenya</td>\n",
       "      <td>2:12:29</td>\n",
       "      <td>2:12:27</td>\n",
       "      <td>0:30:35</td>\n",
       "      <td>1:04:48</td>\n",
       "      <td>1:33:36</td>\n",
       "    </tr>\n",
       "    <tr>\n",
       "      <th>4</th>\n",
       "      <td>5</td>\n",
       "      <td>5</td>\n",
       "      <td>3</td>\n",
       "      <td>MMI</td>\n",
       "      <td>18</td>\n",
       "      <td>Ethiopia</td>\n",
       "      <td>2:12:47</td>\n",
       "      <td>2:12:46</td>\n",
       "      <td>0:30:34</td>\n",
       "      <td>1:04:48</td>\n",
       "      <td>1:33:36</td>\n",
       "    </tr>\n",
       "  </tbody>\n",
       "</table>\n",
       "</div>"
      ],
      "text/plain": [
       "   Overall Position  Gender Position  Category Position Category  Race No  \\\n",
       "0                 1                1                  1      MMS    21080   \n",
       "1                 2                2                  1      MMI       14   \n",
       "2                 3                3                  2      MMI        2   \n",
       "3                 4                4                  2      MMS    21077   \n",
       "4                 5                5                  3      MMI       18   \n",
       "\n",
       "   Country  Official Time Net Time 10km Time Half Way Time 30km Time  \n",
       "0     Kenya       2:12:12  2:12:11   0:30:35       1:04:48   1:33:36  \n",
       "1     Kenya       2:12:14  2:12:13   0:30:34       1:04:48   1:33:36  \n",
       "2  Ethiopia       2:12:20  2:12:18   0:30:35       1:04:49   1:33:36  \n",
       "3     Kenya       2:12:29  2:12:27   0:30:35       1:04:48   1:33:36  \n",
       "4  Ethiopia       2:12:47  2:12:46   0:30:34       1:04:48   1:33:36  "
      ]
     },
     "execution_count": 3,
     "metadata": {},
     "output_type": "execute_result"
    }
   ],
   "source": [
    "challenge.head()"
   ]
  },
  {
   "cell_type": "code",
   "execution_count": 4,
   "metadata": {},
   "outputs": [
    {
     "data": {
      "text/plain": [
       "Index(['Overall Position', 'Gender Position', 'Category Position', 'Category',\n",
       "       'Race No', 'Country ', 'Official Time', 'Net Time', '10km Time',\n",
       "       'Half Way Time', '30km Time'],\n",
       "      dtype='object')"
      ]
     },
     "execution_count": 4,
     "metadata": {},
     "output_type": "execute_result"
    }
   ],
   "source": [
    "challenge.columns"
   ]
  },
  {
   "cell_type": "code",
   "execution_count": 5,
   "metadata": {
    "collapsed": true
   },
   "outputs": [],
   "source": [
    "hkrunners = pd.read_csv('./input/run1.csv')"
   ]
  },
  {
   "cell_type": "code",
   "execution_count": 6,
   "metadata": {},
   "outputs": [
    {
     "data": {
      "text/html": [
       "<div>\n",
       "<style>\n",
       "    .dataframe thead tr:only-child th {\n",
       "        text-align: right;\n",
       "    }\n",
       "\n",
       "    .dataframe thead th {\n",
       "        text-align: left;\n",
       "    }\n",
       "\n",
       "    .dataframe tbody tr th {\n",
       "        vertical-align: top;\n",
       "    }\n",
       "</style>\n",
       "<table border=\"1\" class=\"dataframe\">\n",
       "  <thead>\n",
       "    <tr style=\"text-align: right;\">\n",
       "      <th></th>\n",
       "      <th>Overall Position</th>\n",
       "      <th>Gender Position</th>\n",
       "      <th>Category Position</th>\n",
       "      <th>Category</th>\n",
       "      <th>Race No</th>\n",
       "      <th>Country</th>\n",
       "      <th>Official Time</th>\n",
       "      <th>Net Time</th>\n",
       "      <th>10km Time</th>\n",
       "      <th>Half Way Time</th>\n",
       "      <th>30km Time</th>\n",
       "    </tr>\n",
       "  </thead>\n",
       "  <tbody>\n",
       "    <tr>\n",
       "      <th>0</th>\n",
       "      <td>1</td>\n",
       "      <td>1</td>\n",
       "      <td>1</td>\n",
       "      <td>MR1</td>\n",
       "      <td>A0066</td>\n",
       "      <td>Ireland</td>\n",
       "      <td>2:51:05</td>\n",
       "      <td>2:51:02</td>\n",
       "      <td>0:38:50</td>\n",
       "      <td>1:23:15</td>\n",
       "      <td>1:59:44</td>\n",
       "    </tr>\n",
       "    <tr>\n",
       "      <th>1</th>\n",
       "      <td>2</td>\n",
       "      <td>2</td>\n",
       "      <td>2</td>\n",
       "      <td>MR1</td>\n",
       "      <td>A6190</td>\n",
       "      <td>Hong Kong SAR</td>\n",
       "      <td>2:54:04</td>\n",
       "      <td>2:53:57</td>\n",
       "      <td>0:39:35</td>\n",
       "      <td>1:24:09</td>\n",
       "      <td>2:00:24</td>\n",
       "    </tr>\n",
       "    <tr>\n",
       "      <th>2</th>\n",
       "      <td>3</td>\n",
       "      <td>3</td>\n",
       "      <td>3</td>\n",
       "      <td>MR1</td>\n",
       "      <td>A4491</td>\n",
       "      <td>China</td>\n",
       "      <td>2:58:34</td>\n",
       "      <td>2:57:28</td>\n",
       "      <td>0:40:53</td>\n",
       "      <td>1:27:03</td>\n",
       "      <td>2:04:02</td>\n",
       "    </tr>\n",
       "    <tr>\n",
       "      <th>3</th>\n",
       "      <td>4</td>\n",
       "      <td>4</td>\n",
       "      <td>4</td>\n",
       "      <td>MR1</td>\n",
       "      <td>A8955</td>\n",
       "      <td>China</td>\n",
       "      <td>3:03:34</td>\n",
       "      <td>3:03:28</td>\n",
       "      <td>0:42:52</td>\n",
       "      <td>1:30:34</td>\n",
       "      <td>2:08:36</td>\n",
       "    </tr>\n",
       "    <tr>\n",
       "      <th>4</th>\n",
       "      <td>5</td>\n",
       "      <td>5</td>\n",
       "      <td>5</td>\n",
       "      <td>MR1</td>\n",
       "      <td>A5879</td>\n",
       "      <td>China</td>\n",
       "      <td>3:04:50</td>\n",
       "      <td>3:04:49</td>\n",
       "      <td>0:40:42</td>\n",
       "      <td>1:27:31</td>\n",
       "      <td>2:06:08</td>\n",
       "    </tr>\n",
       "  </tbody>\n",
       "</table>\n",
       "</div>"
      ],
      "text/plain": [
       "   Overall Position  Gender Position  Category Position Category Race No  \\\n",
       "0                 1                1                  1      MR1   A0066   \n",
       "1                 2                2                  2      MR1   A6190   \n",
       "2                 3                3                  3      MR1   A4491   \n",
       "3                 4                4                  4      MR1   A8955   \n",
       "4                 5                5                  5      MR1   A5879   \n",
       "\n",
       "        Country  Official Time Net Time 10km Time Half Way Time 30km Time  \n",
       "0        Ireland       2:51:05  2:51:02   0:38:50       1:23:15   1:59:44  \n",
       "1  Hong Kong SAR       2:54:04  2:53:57   0:39:35       1:24:09   2:00:24  \n",
       "2          China       2:58:34  2:57:28   0:40:53       1:27:03   2:04:02  \n",
       "3          China       3:03:34  3:03:28   0:42:52       1:30:34   2:08:36  \n",
       "4          China       3:04:50  3:04:49   0:40:42       1:27:31   2:06:08  "
      ]
     },
     "execution_count": 6,
     "metadata": {},
     "output_type": "execute_result"
    }
   ],
   "source": [
    "hkrunners.head()"
   ]
  },
  {
   "cell_type": "code",
   "execution_count": 7,
   "metadata": {},
   "outputs": [
    {
     "data": {
      "text/plain": [
       "Index(['Overall Position', 'Gender Position', 'Category Position', 'Category',\n",
       "       'Race No', 'Country ', 'Official Time', 'Net Time', '10km Time',\n",
       "       'Half Way Time', '30km Time'],\n",
       "      dtype='object')"
      ]
     },
     "execution_count": 7,
     "metadata": {},
     "output_type": "execute_result"
    }
   ],
   "source": [
    "hkrunners.columns"
   ]
  },
  {
   "cell_type": "code",
   "execution_count": null,
   "metadata": {
    "collapsed": true
   },
   "outputs": [],
   "source": []
  },
  {
   "cell_type": "code",
   "execution_count": null,
   "metadata": {
    "collapsed": true
   },
   "outputs": [],
   "source": []
  },
  {
   "cell_type": "code",
   "execution_count": null,
   "metadata": {
    "collapsed": true
   },
   "outputs": [],
   "source": []
  },
  {
   "cell_type": "markdown",
   "metadata": {},
   "source": [
    "### Model\n",
    "\n",
    "---------\n",
    "Source:\n",
    "1. https://stats.stackexchange.com/questions/250937/which-loss-function-is-correct-for-logistic-regression"
   ]
  },
  {
   "cell_type": "code",
   "execution_count": 8,
   "metadata": {
    "collapsed": true
   },
   "outputs": [],
   "source": [
    "def z(theta, x):\n",
    "    return np.transpose(theta)*x"
   ]
  },
  {
   "cell_type": "code",
   "execution_count": 10,
   "metadata": {},
   "outputs": [],
   "source": [
    "#Since Logistic Regression is binary we could use the following equation if P(y=1|x)\n",
    "def logisticRegressionOne(z):\n",
    "    return 1/1+np.exp(-z)\n",
    "\n",
    "#To get the opposite since it is binary we could just deduct one from the given equation, P(y=0|x)\n",
    "def logisticRegressionZero(z):\n",
    "    return 1 - logisticRegressionOne(z)"
   ]
  },
  {
   "cell_type": "code",
   "execution_count": 11,
   "metadata": {},
   "outputs": [
    {
     "ename": "SyntaxError",
     "evalue": "unexpected EOF while parsing (<ipython-input-11-13a22fc5f6f0>, line 4)",
     "output_type": "error",
     "traceback": [
      "\u001b[0;36m  File \u001b[0;32m\"<ipython-input-11-13a22fc5f6f0>\"\u001b[0;36m, line \u001b[0;32m4\u001b[0m\n\u001b[0;31m    def costfunction(logZero, logOne):\u001b[0m\n\u001b[0m                                      ^\u001b[0m\n\u001b[0;31mSyntaxError\u001b[0m\u001b[0;31m:\u001b[0m unexpected EOF while parsing\n"
     ]
    }
   ],
   "source": [
    "#Know we are going to create our cost function also known as Loss Function\n",
    "#We are going to feed the models and the data inside the cost function to create an equation on which we will descent into\n",
    "#We are going to bernoulli's formula or the log likelihood\n",
    "def costfunction(logZero, logOne, y):\n",
    "    output = np.sum()"
   ]
  },
  {
   "cell_type": "code",
   "execution_count": null,
   "metadata": {
    "collapsed": true
   },
   "outputs": [],
   "source": []
  },
  {
   "cell_type": "code",
   "execution_count": null,
   "metadata": {
    "collapsed": true
   },
   "outputs": [],
   "source": [
    "y = mx +b"
   ]
  },
  {
   "cell_type": "code",
   "execution_count": null,
   "metadata": {
    "collapsed": true
   },
   "outputs": [],
   "source": [
    "SSE sum(y-y)^2"
   ]
  },
  {
   "cell_type": "code",
   "execution_count": null,
   "metadata": {
    "collapsed": true
   },
   "outputs": [],
   "source": []
  },
  {
   "cell_type": "code",
   "execution_count": null,
   "metadata": {
    "collapsed": true
   },
   "outputs": [],
   "source": []
  },
  {
   "cell_type": "markdown",
   "metadata": {},
   "source": [
    "### Cost Function"
   ]
  },
  {
   "cell_type": "code",
   "execution_count": null,
   "metadata": {
    "collapsed": true
   },
   "outputs": [],
   "source": []
  },
  {
   "cell_type": "markdown",
   "metadata": {},
   "source": [
    "###  Gradient Descent"
   ]
  },
  {
   "cell_type": "code",
   "execution_count": null,
   "metadata": {
    "collapsed": true
   },
   "outputs": [],
   "source": []
  },
  {
   "cell_type": "code",
   "execution_count": null,
   "metadata": {
    "collapsed": true
   },
   "outputs": [],
   "source": []
  },
  {
   "cell_type": "code",
   "execution_count": null,
   "metadata": {
    "collapsed": true
   },
   "outputs": [],
   "source": []
  },
  {
   "cell_type": "code",
   "execution_count": null,
   "metadata": {
    "collapsed": true
   },
   "outputs": [],
   "source": []
  }
 ],
 "metadata": {
  "kernelspec": {
   "display_name": "Python 3",
   "language": "python",
   "name": "python3"
  },
  "language_info": {
   "codemirror_mode": {
    "name": "ipython",
    "version": 3
   },
   "file_extension": ".py",
   "mimetype": "text/x-python",
   "name": "python",
   "nbconvert_exporter": "python",
   "pygments_lexer": "ipython3",
   "version": "3.6.1"
  }
 },
 "nbformat": 4,
 "nbformat_minor": 1
}
